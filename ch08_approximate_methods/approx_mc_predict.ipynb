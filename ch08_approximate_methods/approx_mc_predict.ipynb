{
 "cells": [
  {
   "cell_type": "code",
   "execution_count": 1,
   "metadata": {
    "collapsed": true
   },
   "outputs": [],
   "source": [
    "# ref: approx_mc_predict.py"
   ]
  },
  {
   "cell_type": "code",
   "execution_count": 2,
   "metadata": {
    "collapsed": true
   },
   "outputs": [],
   "source": [
    "import numpy as np\n",
    "import matplotlib.pyplot as plt\n",
    "from grid_world import standard_grid, negative_grid\n",
    "from iterative_policy_evaluation import print_values, print_policy"
   ]
  },
  {
   "cell_type": "code",
   "execution_count": 3,
   "metadata": {
    "collapsed": true
   },
   "outputs": [],
   "source": [
    "# NOTE: this is only policy evaluation, not optimization\n",
    "\n",
    "# we'll try to obtain the same result as our other MC script\n",
    "from monte_carlo_random import random_action, play_game, SMALL_ENOUGH, GAMMA, ALL_POSSIBLE_ACTIONS"
   ]
  },
  {
   "cell_type": "code",
   "execution_count": 4,
   "metadata": {
    "collapsed": true
   },
   "outputs": [],
   "source": [
    "LEARNING_RATE = 0.001"
   ]
  },
  {
   "cell_type": "code",
   "execution_count": 7,
   "metadata": {},
   "outputs": [
    {
     "name": "stdout",
     "output_type": "stream",
     "text": [
      "rewards:\n",
      "---------------------------\n",
      " 0.00|  0.00|  0.00|  1.00| \n",
      "---------------------------\n",
      " 0.00|  0.00|  0.00| -1.00| \n",
      "---------------------------\n",
      " 0.00|  0.00|  0.00|  0.00| \n"
     ]
    },
    {
     "data": {
      "image/png": "[encoded data removed]",
      "text/plain": [
       "<matplotlib.figure.Figure at 0x7effbd7c4a50>"
      ]
     },
     "metadata": {},
     "output_type": "display_data"
    },
    {
     "name": "stdout",
     "output_type": "stream",
     "text": [
      "values:\n",
      "---------------------------\n",
      " 0.45|  0.58|  0.71|  0.00| \n",
      "---------------------------\n",
      " 0.36|  0.00|  0.34|  0.00| \n",
      "---------------------------\n",
      " 0.28|  0.13| -0.02| -0.18| \n",
      "policy:\n",
      "---------------------------\n",
      "  R  |   R  |   R  |      | \n",
      "---------------------------\n",
      "  U  |      |   U  |      | \n",
      "---------------------------\n",
      "  U  |   L  |   U  |   L  | \n"
     ]
    }
   ],
   "source": [
    "if __name__ == '__main__':\n",
    "    # use the standard grid again (0 for every step) so that we can compare\n",
    "    # to iterative policy evaluation\n",
    "    grid = standard_grid()\n",
    "\n",
    "    # print rewards\n",
    "    print \"rewards:\"\n",
    "    print_values(grid.rewards, grid)\n",
    "\n",
    "    # state -> action\n",
    "    # found by policy_iteration_random on standard_grid\n",
    "    # MC method won't get exactly this, but should be close\n",
    "    # values:\n",
    "    # ---------------------------\n",
    "    #  0.43|  0.56|  0.72|  0.00|\n",
    "    # ---------------------------\n",
    "    #  0.33|  0.00|  0.21|  0.00|\n",
    "    # ---------------------------\n",
    "    #  0.25|  0.18|  0.11| -0.17|\n",
    "    # policy:\n",
    "    # ---------------------------\n",
    "    #   R  |   R  |   R  |      |\n",
    "    # ---------------------------\n",
    "    #   U  |      |   U  |      |\n",
    "    # ---------------------------\n",
    "    #   U  |   L  |   U  |   L  |\n",
    "    policy = {\n",
    "        (2, 0): 'U',\n",
    "        (1, 0): 'U',\n",
    "        (0, 0): 'R',\n",
    "        (0, 1): 'R',\n",
    "        (0, 2): 'R',\n",
    "        (1, 2): 'U',\n",
    "        (2, 1): 'L',\n",
    "        (2, 2): 'U',\n",
    "        (2, 3): 'L',\n",
    "    }\n",
    "\n",
    "    # initialize theta\n",
    "    # our model is V_hat = theta.dot(x)\n",
    "    # where x = [row, col, row*col, 1] - 1 for bias term\n",
    "    theta = np.random.randn(4) / 2\n",
    "    def s2x(s):\n",
    "        return np.array([s[0] - 1, s[1] - 1.5, s[0]*s[1] - 3, 1])\n",
    "\n",
    "    # repeat until convergence\n",
    "    deltas = []\n",
    "    t = 1.0\n",
    "    for it in xrange(20000):\n",
    "        if it % 100 == 0:\n",
    "            t += 0.01\n",
    "        alpha = LEARNING_RATE/t\n",
    "        # generate an episode using pi\n",
    "        biggest_change = 0\n",
    "        states_and_returns = play_game(grid, policy)\n",
    "        seen_states = set()\n",
    "        for s, G in states_and_returns:\n",
    "            # check if we have already seen s\n",
    "            # called \"first-visit\" MC policy evaluation\n",
    "            if s not in seen_states:\n",
    "                old_theta = theta.copy()\n",
    "                x = s2x(s)\n",
    "                V_hat = theta.dot(x)\n",
    "                # grad(V_hat) wrt theta = x\n",
    "                theta += alpha*(G - V_hat)*x\n",
    "                biggest_change = max(biggest_change, np.abs(old_theta - theta).sum())\n",
    "                seen_states.add(s)\n",
    "        deltas.append(biggest_change)\n",
    "\n",
    "    plt.plot(deltas)\n",
    "    plt.show()\n",
    "\n",
    "    # obtain predicted values\n",
    "    V = {}\n",
    "    states = grid.all_states()\n",
    "    for s in states:\n",
    "        if s in grid.actions:\n",
    "            V[s] = theta.dot(s2x(s))\n",
    "        else:\n",
    "            # terminal state or state we can't otherwise get to\n",
    "            V[s] = 0\n",
    "\n",
    "    print \"values:\"\n",
    "    print_values(V, grid)\n",
    "    print \"policy:\"\n",
    "    print_policy(policy, grid)"
   ]
  },
  {
   "cell_type": "code",
   "execution_count": null,
   "metadata": {
    "collapsed": true
   },
   "outputs": [],
   "source": []
  }
 ],
 "metadata": {
  "kernelspec": {
   "display_name": "Python 2",
   "language": "python",
   "name": "python2"
  },
  "language_info": {
   "codemirror_mode": {
    "name": "ipython",
    "version": 2
   },
   "file_extension": ".py",
   "mimetype": "text/x-python",
   "name": "python",
   "nbconvert_exporter": "python",
   "pygments_lexer": "ipython2",
   "version": "2.7.13"
  },
  "widgets": {
   "state": {},
   "version": "1.1.2"
  }
 },
 "nbformat": 4,
 "nbformat_minor": 2
}
