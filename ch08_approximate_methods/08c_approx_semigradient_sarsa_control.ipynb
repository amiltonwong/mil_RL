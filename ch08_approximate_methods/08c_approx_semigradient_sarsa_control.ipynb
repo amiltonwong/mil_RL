{
 "cells": [
  {
   "cell_type": "code",
   "execution_count": 1,
   "metadata": {
    "collapsed": true
   },
   "outputs": [],
   "source": [
    "# ref: approx_semigradient_sarsa_control.py"
   ]
  },
  {
   "cell_type": "code",
   "execution_count": 2,
   "metadata": {
    "collapsed": true
   },
   "outputs": [],
   "source": [
    "import numpy as np\n",
    "import matplotlib.pyplot as plt\n",
    "from grid_world import standard_grid, negative_grid\n",
    "from iterative_policy_evaluation import print_values, print_policy\n",
    "from monte_carlo_es import max_dict\n",
    "from sarsa import random_action, GAMMA, ALPHA, ALL_POSSIBLE_ACTIONS"
   ]
  },
  {
   "cell_type": "code",
   "execution_count": 3,
   "metadata": {
    "collapsed": true
   },
   "outputs": [],
   "source": [
    "SA2IDX = {}\n",
    "IDX = 0"
   ]
  },
  {
   "cell_type": "code",
   "execution_count": 4,
   "metadata": {
    "collapsed": true
   },
   "outputs": [],
   "source": [
    "class Model:\n",
    "    def __init__(self):\n",
    "        self.theta = np.random.randn(25) / np.sqrt(25)\n",
    "        # if we use SA2IDX, a one-hot encoding for every (s,a) pair\n",
    "        # in reality we wouldn't want to do this b/c we have just\n",
    "        # as many params as before\n",
    "        # print \"D:\", IDX\n",
    "        # self.theta = np.random.randn(IDX) / np.sqrt(IDX)\n",
    "\n",
    "    def sa2x(self, s, a):\n",
    "        # NOTE: using just (r, c, r*c, u, d, l, r, 1) is not expressive enough\n",
    "        return np.array([\n",
    "            s[0] - 1              if a == 'U' else 0,\n",
    "            s[1] - 1.5            if a == 'U' else 0,\n",
    "            (s[0]*s[1] - 3)/3     if a == 'U' else 0,\n",
    "            (s[0]*s[0] - 2)/2     if a == 'U' else 0,\n",
    "            (s[1]*s[1] - 4.5)/4.5 if a == 'U' else 0,\n",
    "            1                     if a == 'U' else 0,\n",
    "            s[0] - 1              if a == 'D' else 0,\n",
    "            s[1] - 1.5            if a == 'D' else 0,\n",
    "            (s[0]*s[1] - 3)/3     if a == 'D' else 0,\n",
    "            (s[0]*s[0] - 2)/2     if a == 'D' else 0,\n",
    "            (s[1]*s[1] - 4.5)/4.5 if a == 'D' else 0,\n",
    "            1                     if a == 'D' else 0,\n",
    "            s[0] - 1              if a == 'L' else 0,\n",
    "            s[1] - 1.5            if a == 'L' else 0,\n",
    "            (s[0]*s[1] - 3)/3     if a == 'L' else 0,\n",
    "            (s[0]*s[0] - 2)/2     if a == 'L' else 0,\n",
    "            (s[1]*s[1] - 4.5)/4.5 if a == 'L' else 0,\n",
    "            1                     if a == 'L' else 0,\n",
    "            s[0] - 1              if a == 'R' else 0,\n",
    "            s[1] - 1.5            if a == 'R' else 0,\n",
    "            (s[0]*s[1] - 3)/3     if a == 'R' else 0,\n",
    "            (s[0]*s[0] - 2)/2     if a == 'R' else 0,\n",
    "            (s[1]*s[1] - 4.5)/4.5 if a == 'R' else 0,\n",
    "            1                     if a == 'R' else 0,\n",
    "            1\n",
    "        ])\n",
    "        # if we use SA2IDX, a one-hot encoding for every (s,a) pair\n",
    "        # in reality we wouldn't want to do this b/c we have just\n",
    "        # as many params as before\n",
    "        # x = np.zeros(len(self.theta))\n",
    "        # idx = SA2IDX[s][a]\n",
    "        # x[idx] = 1\n",
    "        # return x\n",
    "\n",
    "    def predict(self, s, a):\n",
    "        x = self.sa2x(s, a)\n",
    "        return self.theta.dot(x)\n",
    "\n",
    "    def grad(self, s, a):\n",
    "        return self.sa2x(s, a)"
   ]
  },
  {
   "cell_type": "code",
   "execution_count": 5,
   "metadata": {
    "collapsed": true
   },
   "outputs": [],
   "source": [
    "def getQs(model, s):\n",
    "    # we need Q(s,a) to choose an action\n",
    "    # i.e. a = argmax[a]{ Q(s,a) }\n",
    "    Qs = {}\n",
    "    for a in ALL_POSSIBLE_ACTIONS:\n",
    "        q_sa = model.predict(s, a)\n",
    "        Qs[a] = q_sa\n",
    "    return Qs"
   ]
  },
  {
   "cell_type": "code",
   "execution_count": 6,
   "metadata": {},
   "outputs": [
    {
     "name": "stdout",
     "output_type": "stream",
     "text": [
      "rewards:\n",
      "---------------------------\n",
      "-0.10| -0.10| -0.10|  1.00| \n",
      "---------------------------\n",
      "-0.10|  0.00| -0.10| -1.00| \n",
      "---------------------------\n",
      "-0.10| -0.10| -0.10| -0.10| \n",
      "it: 0\n",
      "it: 1000\n",
      "it: 2000\n",
      "it: 3000\n",
      "it: 4000\n",
      "it: 5000\n",
      "it: 6000\n",
      "it: 7000\n",
      "it: 8000\n",
      "it: 9000\n",
      "it: 10000\n",
      "it: 11000\n",
      "it: 12000\n",
      "it: 13000\n",
      "it: 14000\n",
      "it: 15000\n",
      "it: 16000\n",
      "it: 17000\n",
      "it: 18000\n",
      "it: 19000\n"
     ]
    },
    {
     "data": {
      "image/png": "[encoded data removed]",
      "text/plain": [
       "<matplotlib.figure.Figure at 0x7f07b42f68d0>"
      ]
     },
     "metadata": {},
     "output_type": "display_data"
    },
    {
     "name": "stdout",
     "output_type": "stream",
     "text": [
      "values:\n",
      "---------------------------\n",
      " 0.64|  0.78|  1.01|  0.00| \n",
      "---------------------------\n",
      " 0.50|  0.00|  0.78|  0.00| \n",
      "---------------------------\n",
      " 0.21|  0.35|  0.55|  0.34| \n",
      "policy:\n",
      "---------------------------\n",
      "  R  |   R  |   R  |      | \n",
      "---------------------------\n",
      "  U  |      |   U  |      | \n",
      "---------------------------\n",
      "  R  |   R  |   U  |   L  | \n"
     ]
    }
   ],
   "source": [
    "if __name__ == '__main__':\n",
    "    # NOTE: if we use the standard grid, there's a good chance we will end up with\n",
    "    # suboptimal policies\n",
    "    # e.g.\n",
    "    # ---------------------------\n",
    "    #   R  |   R  |   R  |      |\n",
    "    # ---------------------------\n",
    "    #   R* |      |   U  |      |\n",
    "    # ---------------------------\n",
    "    #   U  |   R  |   U  |   L  |\n",
    "    # since going R at (1,0) (shown with a *) incurs no cost, it's OK to keep doing that.\n",
    "    # we'll either end up staying in the same spot, or back to the start (2,0), at which\n",
    "    # point we whould then just go back up, or at (0,0), at which point we can continue\n",
    "    # on right.\n",
    "    # instead, let's penalize each movement so the agent will find a shorter route.\n",
    "    #\n",
    "    # grid = standard_grid()\n",
    "    grid = negative_grid(step_cost=-0.1)\n",
    "\n",
    "    # print rewards\n",
    "    print \"rewards:\"\n",
    "    print_values(grid.rewards, grid)\n",
    "\n",
    "    # no policy initialization, we will derive our policy from most recent Q\n",
    "    # enumerate all (s,a) pairs, each will have its own weight in our \"dumb\" model\n",
    "    # essentially each weight will be a measure of Q(s,a) itself\n",
    "    states = grid.all_states()\n",
    "    for s in states:\n",
    "        SA2IDX[s] = {}\n",
    "        for a in ALL_POSSIBLE_ACTIONS:\n",
    "            SA2IDX[s][a] = IDX\n",
    "            IDX += 1\n",
    "\n",
    "    # initialize model\n",
    "    model = Model()\n",
    "\n",
    "    # repeat until convergence\n",
    "    t = 1.0\n",
    "    t2 = 1.0\n",
    "    deltas = []\n",
    "    for it in xrange(20000):\n",
    "        if it % 100 == 0:\n",
    "            t += 0.01\n",
    "            t2 += 0.01\n",
    "        if it % 1000 == 0:\n",
    "            print \"it:\", it\n",
    "        alpha = ALPHA / t2\n",
    "\n",
    "        # instead of 'generating' an epsiode, we will PLAY\n",
    "        # an episode within this loop\n",
    "        s = (2, 0) # start state\n",
    "        grid.set_state(s)\n",
    "\n",
    "        # get Q(s) so we can choose the first action\n",
    "        Qs = getQs(model, s)\n",
    "\n",
    "        # the first (s, r) tuple is the state we start in and 0\n",
    "        # (since we don't get a reward) for simply starting the game\n",
    "        # the last (s, r) tuple is the terminal state and the final reward\n",
    "        # the value for the terminal state is by definition 0, so we don't\n",
    "        # care about updating it.\n",
    "        a = max_dict(Qs)[0]\n",
    "        a = random_action(a, eps=0.5/t) # epsilon-greedy\n",
    "        biggest_change = 0\n",
    "        while not grid.game_over():\n",
    "            r = grid.move(a)\n",
    "            s2 = grid.current_state()\n",
    "\n",
    "            # we need the next action as well since Q(s,a) depends on Q(s',a')\n",
    "            # if s2 not in policy then it's a terminal state, all Q are 0\n",
    "            old_theta = model.theta.copy()\n",
    "            if grid.is_terminal(s2):\n",
    "                model.theta += alpha*(r - model.predict(s, a))*model.grad(s, a)\n",
    "            else:\n",
    "                # not terminal\n",
    "                Qs2 = getQs(model, s2)\n",
    "                a2 = max_dict(Qs2)[0]\n",
    "                a2 = random_action(a2, eps=0.5/t) # epsilon-greedy\n",
    "\n",
    "                # we will update Q(s,a) AS we experience the episode\n",
    "                model.theta += alpha*(r + GAMMA*model.predict(s2, a2) - model.predict(s, a))*model.grad(s, a)\n",
    "                \n",
    "                # next state becomes current state\n",
    "                s = s2\n",
    "                a = a2\n",
    "\n",
    "            biggest_change = max(biggest_change, np.abs(model.theta - old_theta).sum())\n",
    "        deltas.append(biggest_change)\n",
    "\n",
    "    plt.plot(deltas)\n",
    "    plt.show()\n",
    "\n",
    "    # determine the policy from Q*\n",
    "    # find V* from Q*\n",
    "    policy = {}\n",
    "    V = {}\n",
    "    Q = {}\n",
    "    for s in grid.actions.keys():\n",
    "        Qs = getQs(model, s)\n",
    "        Q[s] = Qs\n",
    "        a, max_q = max_dict(Qs)\n",
    "        policy[s] = a\n",
    "        V[s] = max_q\n",
    "\n",
    "    print \"values:\"\n",
    "    print_values(V, grid)\n",
    "    print \"policy:\"\n",
    "    print_policy(policy, grid)"
   ]
  },
  {
   "cell_type": "code",
   "execution_count": null,
   "metadata": {
    "collapsed": true
   },
   "outputs": [],
   "source": []
  }
 ],
 "metadata": {
  "kernelspec": {
   "display_name": "Python 2",
   "language": "python",
   "name": "python2"
  },
  "language_info": {
   "codemirror_mode": {
    "name": "ipython",
    "version": 2
   },
   "file_extension": ".py",
   "mimetype": "text/x-python",
   "name": "python",
   "nbconvert_exporter": "python",
   "pygments_lexer": "ipython2",
   "version": "2.7.13"
  },
  "widgets": {
   "state": {},
   "version": "1.1.2"
  }
 },
 "nbformat": 4,
 "nbformat_minor": 2
}
