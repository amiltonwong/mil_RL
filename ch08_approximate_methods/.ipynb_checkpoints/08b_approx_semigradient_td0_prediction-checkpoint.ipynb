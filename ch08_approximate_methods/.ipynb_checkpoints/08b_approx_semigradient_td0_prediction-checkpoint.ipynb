{
 "cells": [
  {
   "cell_type": "code",
   "execution_count": 1,
   "metadata": {
    "collapsed": true
   },
   "outputs": [],
   "source": [
    "# ref: approx_semigradient_td0_prediction.py"
   ]
  },
  {
   "cell_type": "code",
   "execution_count": 2,
   "metadata": {
    "collapsed": true
   },
   "outputs": [],
   "source": [
    "import numpy as np\n",
    "import matplotlib.pyplot as plt\n",
    "from grid_world import standard_grid, negative_grid\n",
    "from iterative_policy_evaluation import print_values, print_policy\n",
    "from td0_prediction import play_game, SMALL_ENOUGH, GAMMA, ALPHA, ALL_POSSIBLE_ACTIONS"
   ]
  },
  {
   "cell_type": "code",
   "execution_count": 3,
   "metadata": {
    "collapsed": true
   },
   "outputs": [],
   "source": [
    "# NOTE: this is only policy evaluation, not optimization\n",
    "\n",
    "class Model:\n",
    "\tdef __init__(self):\n",
    "\t\tself.theta = np.random.randn(4) / 2\n",
    "\t\n",
    "\tdef s2x(self, s):\n",
    "\t\treturn np.array([s[0] - 1, s[1] - 1.5, s[0]*s[1] - 3, 1])\n",
    "\n",
    "\tdef predict(self, s):\n",
    "\t\tx = self.s2x(s)\n",
    "\t\treturn self.theta.dot(x)\n",
    "\n",
    "\tdef grad(self, s):\n",
    "\t\treturn self.s2x(s)\n"
   ]
  },
  {
   "cell_type": "code",
   "execution_count": 4,
   "metadata": {},
   "outputs": [
    {
     "name": "stdout",
     "output_type": "stream",
     "text": [
      "rewards:\n",
      "---------------------------\n",
      " 0.00|  0.00|  0.00|  1.00| \n",
      "---------------------------\n",
      " 0.00|  0.00|  0.00| -1.00| \n",
      "---------------------------\n",
      " 0.00|  0.00|  0.00|  0.00| \n"
     ]
    },
    {
     "data": {
      "image/png": "[encoded data removed]",
      "text/plain": [
       "<matplotlib.figure.Figure at 0x7fdf8016d8d0>"
      ]
     },
     "metadata": {},
     "output_type": "display_data"
    },
    {
     "name": "stdout",
     "output_type": "stream",
     "text": [
      "values:\n",
      "---------------------------\n",
      " 0.80|  0.89|  0.99|  0.00| \n",
      "---------------------------\n",
      " 0.70|  0.00| -0.04|  0.00| \n",
      "---------------------------\n",
      " 0.60| -0.24| -1.07| -1.91| \n",
      "policy:\n",
      "---------------------------\n",
      "  R  |   R  |   R  |      | \n",
      "---------------------------\n",
      "  U  |      |   R  |      | \n",
      "---------------------------\n",
      "  U  |   R  |   R  |   U  | \n"
     ]
    }
   ],
   "source": [
    "if __name__ == '__main__':\n",
    "\t# use the standard grid again (0 for every step) so that we can compare\n",
    "\t# to iterative policy evaluation\n",
    "\tgrid = standard_grid()\n",
    "\n",
    "\t# print rewards\n",
    "\tprint \"rewards:\"\n",
    "\tprint_values(grid.rewards, grid)\n",
    "\n",
    "\t# state -> action\n",
    "\tpolicy = {\n",
    "\t\t(2, 0): 'U',\n",
    "\t\t(1, 0): 'U',\n",
    "\t\t(0, 0): 'R',\n",
    "\t\t(0, 1): 'R',\n",
    "\t\t(0, 2): 'R',\n",
    "\t\t(1, 2): 'R',\n",
    "\t\t(2, 1): 'R',\n",
    "\t\t(2, 2): 'R',\n",
    "\t\t(2, 3): 'U',\n",
    "\t}\n",
    "\n",
    "\tmodel = Model()\n",
    "\tdeltas = []\n",
    "\n",
    "\t# repeat until convergence\n",
    "\tk = 1.0\n",
    "\tfor it in xrange(20000):\n",
    "\t\tif it % 10 == 0:\n",
    "\t\t\tk += 0.01\n",
    "\t\talpha = ALPHA/k\n",
    "\t\tbiggest_change = 0\n",
    "\n",
    "\t\t# generate an episode using pi\n",
    "\t\tstates_and_rewards = play_game(grid, policy)\n",
    "\t\t# the first (s, r) tuple is the state we start in and 0\n",
    "\t\t# (since we don't get a reward) for simply starting the game\n",
    "\t\t# the last (s, r) tuple is the terminal state and the final reward\n",
    "\t\t# the value for the terminal state is by definition 0, so we don't\n",
    "\t\t# care about updating it.\n",
    "\t\tfor t in xrange(len(states_and_rewards) - 1):\n",
    "\t\t\ts, _ = states_and_rewards[t]\n",
    "\t\t\ts2, r = states_and_rewards[t+1]\n",
    "\t\t\t# we will update V(s) AS we experience the episode\n",
    "\t\t\told_theta = model.theta.copy()\n",
    "\t\t\tif grid.is_terminal(s2):\n",
    "\t\t\t\ttarget = r\n",
    "\t\t\telse:\n",
    "\t\t\t\ttarget = r + GAMMA*model.predict(s2)\n",
    "\t\t\tmodel.theta += alpha*(target - model.predict(s))*model.grad(s)\n",
    "\t\t\tbiggest_change = max(biggest_change, np.abs(old_theta - model.theta).sum())\n",
    "\t\tdeltas.append(biggest_change)\n",
    "\n",
    "\tplt.plot(deltas)\n",
    "\tplt.show()\n",
    "\n",
    "\t# obtain predicted values\n",
    "\tV = {}\n",
    "\tstates = grid.all_states()\n",
    "\tfor s in states:\n",
    "\t\tif s in grid.actions:\n",
    "\t\t\tV[s] = model.predict(s)\n",
    "\t\telse:\n",
    "\t\t\t# terminal state or state we can't otherwise get to\n",
    "\t\t\tV[s] = 0\n",
    "\n",
    "\tprint \"values:\"\n",
    "\tprint_values(V, grid)\n",
    "\tprint \"policy:\"\n",
    "\tprint_policy(policy, grid)"
   ]
  },
  {
   "cell_type": "code",
   "execution_count": null,
   "metadata": {
    "collapsed": true
   },
   "outputs": [],
   "source": []
  }
 ],
 "metadata": {
  "kernelspec": {
   "display_name": "Python 2",
   "language": "python",
   "name": "python2"
  },
  "language_info": {
   "codemirror_mode": {
    "name": "ipython",
    "version": 2
   },
   "file_extension": ".py",
   "mimetype": "text/x-python",
   "name": "python",
   "nbconvert_exporter": "python",
   "pygments_lexer": "ipython2",
   "version": "2.7.13"
  },
  "widgets": {
   "state": {},
   "version": "1.1.2"
  }
 },
 "nbformat": 4,
 "nbformat_minor": 2
}
