{
 "cells": [
  {
   "cell_type": "code",
   "execution_count": 1,
   "metadata": {},
   "outputs": [],
   "source": [
    "# ref: q_learning.py"
   ]
  },
  {
   "cell_type": "code",
   "execution_count": 2,
   "metadata": {},
   "outputs": [],
   "source": [
    "import numpy as np\n",
    "import matplotlib.pyplot as plt\n",
    "from grid_world import standard_grid, negative_grid\n",
    "from iterative_policy_evaluation import print_values, print_policy\n",
    "from monte_carlo_es import max_dict\n",
    "from td0_prediction import random_action"
   ]
  },
  {
   "cell_type": "code",
   "execution_count": 3,
   "metadata": {},
   "outputs": [],
   "source": [
    "GAMMA = 0.9\n",
    "ALPHA = 0.1\n",
    "ALL_POSSIBLE_ACTIONS = ('U', 'D', 'L', 'R')"
   ]
  },
  {
   "cell_type": "code",
   "execution_count": 4,
   "metadata": {},
   "outputs": [
    {
     "name": "stdout",
     "output_type": "stream",
     "text": [
      "rewards:\n",
      "---------------------------\n",
      "-0.10| -0.10| -0.10|  1.00| \n",
      "---------------------------\n",
      "-0.10|  0.00| -0.10| -1.00| \n",
      "---------------------------\n",
      "-0.10| -0.10| -0.10| -0.10| \n",
      "it: 0\n",
      "it: 2000\n",
      "it: 4000\n",
      "it: 6000\n",
      "it: 8000\n"
     ]
    },
    {
     "data": {
      "image/png": "[encoded data removed]",
      "text/plain": [
       "<matplotlib.figure.Figure at 0x7f4945f12b90>"
      ]
     },
     "metadata": {},
     "output_type": "display_data"
    },
    {
     "name": "stdout",
     "output_type": "stream",
     "text": [
      "update counts:\n",
      "---------------------------\n",
      " 0.26|  0.05|  0.04|  0.00| \n",
      "---------------------------\n",
      " 0.12|  0.00|  0.01|  0.00| \n",
      "---------------------------\n",
      " 0.28|  0.07|  0.05|  0.11| \n",
      "values:\n",
      "---------------------------\n",
      " 0.62|  0.80|  1.00|  0.00| \n",
      "---------------------------\n",
      " 0.46|  0.00|  0.80|  0.00| \n",
      "---------------------------\n",
      " 0.31|  0.46|  0.62|  0.46| \n",
      "policy:\n",
      "---------------------------\n",
      "  R  |   R  |   R  |      | \n",
      "---------------------------\n",
      "  U  |      |   U  |      | \n",
      "---------------------------\n",
      "  U  |   R  |   U  |   L  | \n"
     ]
    }
   ],
   "source": [
    "if __name__ == '__main__':\n",
    "    # NOTE: if we use the standard grid, there's a good chance we will end up with\n",
    "    # suboptimal policies\n",
    "    # e.g.\n",
    "    # ---------------------------\n",
    "    #   R  |   R  |   R  |      |\n",
    "    # ---------------------------\n",
    "    #   R* |      |   U  |      |\n",
    "    # ---------------------------\n",
    "    #   U  |   R  |   U  |   L  |\n",
    "    # since going R at (1,0) (shown with a *) incurs no cost, it's OK to keep doing that.\n",
    "    # we'll either end up staying in the same spot, or back to the start (2,0), at which\n",
    "    # point we whould then just go back up, or at (0,0), at which point we can continue\n",
    "    # on right.\n",
    "    # instead, let's penalize each movement so the agent will find a shorter route.\n",
    "    #\n",
    "    # grid = standard_grid()\n",
    "    grid = negative_grid(step_cost=-0.1)\n",
    "\n",
    "    # print rewards\n",
    "    print \"rewards:\"\n",
    "    print_values(grid.rewards, grid)\n",
    "\n",
    "    # no policy initialization, we will derive our policy from most recent Q\n",
    "\n",
    "    # initialize Q(s,a)\n",
    "    Q = {}\n",
    "    states = grid.all_states()\n",
    "    for s in states:\n",
    "        Q[s] = {}\n",
    "        for a in ALL_POSSIBLE_ACTIONS:\n",
    "            Q[s][a] = 0\n",
    "\n",
    "    # let's also keep track of how many times Q[s] has been updated\n",
    "    update_counts = {}\n",
    "    update_counts_sa = {}\n",
    "    for s in states:\n",
    "        update_counts_sa[s] = {}\n",
    "        for a in ALL_POSSIBLE_ACTIONS:\n",
    "            update_counts_sa[s][a] = 1.0\n",
    "\n",
    "    # repeat until convergence\n",
    "    t = 1.0\n",
    "    deltas = []\n",
    "    for it in xrange(10000):\n",
    "        if it % 100 == 0:\n",
    "            t += 1e-2\n",
    "        if it % 2000 == 0:\n",
    "            print \"it:\", it\n",
    "\n",
    "        # instead of 'generating' an epsiode, we will PLAY\n",
    "        # an episode within this loop\n",
    "        s = (2, 0) # start state\n",
    "        grid.set_state(s)\n",
    "\n",
    "        # the first (s, r) tuple is the state we start in and 0\n",
    "        # (since we don't get a reward) for simply starting the game\n",
    "        # the last (s, r) tuple is the terminal state and the final reward\n",
    "        # the value for the terminal state is by definition 0, so we don't\n",
    "        # care about updating it.\n",
    "        a, _ = max_dict(Q[s])\n",
    "        biggest_change = 0\n",
    "        while not grid.game_over():\n",
    "            a = random_action(a, eps=0.5/t) # epsilon-greedy\n",
    "            # random action also works, but slower since you can bump into walls\n",
    "            # a = np.random.choice(ALL_POSSIBLE_ACTIONS)\n",
    "            r = grid.move(a)\n",
    "            s2 = grid.current_state()\n",
    "\n",
    "            # adaptive learning rate\n",
    "            alpha = ALPHA / update_counts_sa[s][a]\n",
    "            update_counts_sa[s][a] += 0.005\n",
    "\n",
    "            # we will update Q(s,a) AS we experience the episode\n",
    "            old_qsa = Q[s][a]\n",
    "            # the difference between SARSA and Q-Learning is with Q-Learning\n",
    "            # we will use this max[a']{ Q(s',a')} in our update\n",
    "            # even if we do not end up taking this action in the next step\n",
    "            a2, max_q_s2a2 = max_dict(Q[s2])\n",
    "            Q[s][a] = Q[s][a] + alpha*(r + GAMMA*max_q_s2a2 - Q[s][a])\n",
    "            biggest_change = max(biggest_change, np.abs(old_qsa - Q[s][a]))\n",
    "\n",
    "            # we would like to know how often Q(s) has been updated too\n",
    "            update_counts[s] = update_counts.get(s,0) + 1\n",
    "\n",
    "            # next state becomes current state\n",
    "            s = s2\n",
    "         \n",
    "        deltas.append(biggest_change)\n",
    "\n",
    "    plt.plot(deltas)\n",
    "    plt.show()\n",
    "\n",
    "    # determine the policy from Q*\n",
    "    # find V* from Q*\n",
    "    policy = {}\n",
    "    V = {}\n",
    "    for s in grid.actions.keys():\n",
    "        a, max_q = max_dict(Q[s])\n",
    "        policy[s] = a\n",
    "        V[s] = max_q\n",
    "\n",
    "    # what's the proportion of time we spend updating each part of Q?\n",
    "    print \"update counts:\"\n",
    "    total = np.sum(update_counts.values())\n",
    "    for k, v in update_counts.iteritems():\n",
    "        update_counts[k] = float(v) / total\n",
    "    print_values(update_counts, grid)\n",
    "\n",
    "    print \"values:\"\n",
    "    print_values(V, grid)\n",
    "    print \"policy:\"\n",
    "    print_policy(policy, grid)\n"
   ]
  },
  {
   "cell_type": "code",
   "execution_count": null,
   "metadata": {},
   "outputs": [],
   "source": []
  }
 ],
 "metadata": {
  "kernelspec": {
   "display_name": "Python 2",
   "language": "python",
   "name": "python2"
  },
  "language_info": {
   "codemirror_mode": {
    "name": "ipython",
    "version": 2
   },
   "file_extension": ".py",
   "mimetype": "text/x-python",
   "name": "python",
   "nbconvert_exporter": "python",
   "pygments_lexer": "ipython2",
   "version": "2.7.13"
  },
  "widgets": {
   "state": {},
   "version": "1.1.2"
  }
 },
 "nbformat": 4,
 "nbformat_minor": 2
}
