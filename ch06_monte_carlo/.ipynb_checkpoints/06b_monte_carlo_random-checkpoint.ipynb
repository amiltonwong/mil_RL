{
 "cells": [
  {
   "cell_type": "code",
   "execution_count": 1,
   "metadata": {},
   "outputs": [],
   "source": [
    "# ref:  monte_carlo_random.py"
   ]
  },
  {
   "cell_type": "code",
   "execution_count": 2,
   "metadata": {},
   "outputs": [],
   "source": [
    "import numpy as np\n",
    "from grid_world import standard_grid, negative_grid\n",
    "from iterative_policy_evaluation import print_values, print_policy"
   ]
  },
  {
   "cell_type": "code",
   "execution_count": 6,
   "metadata": {},
   "outputs": [],
   "source": [
    "SMALL_ENOUGH = 1e-3\n",
    "GAMMA = 0.9\n",
    "ALL_POSSIBLE_ACTIONS = ('U', 'D', 'L', 'R')"
   ]
  },
  {
   "cell_type": "code",
   "execution_count": 7,
   "metadata": {},
   "outputs": [],
   "source": [
    "# NOTE: this is only policy evaluation, not optimization\n",
    "\n",
    "def random_action(a):\n",
    "    # choose given a with probability 0.5\n",
    "    # choose some other a' != a with probability 0.5/3\n",
    "    p = np.random.random()\n",
    "    if p < 0.5:\n",
    "        return a\n",
    "    else:\n",
    "        tmp = list(ALL_POSSIBLE_ACTIONS)\n",
    "        tmp.remove(a)\n",
    "        return np.random.choice(tmp)"
   ]
  },
  {
   "cell_type": "code",
   "execution_count": 8,
   "metadata": {},
   "outputs": [],
   "source": [
    "def play_game(grid, policy):\n",
    "    # returns a list of states and corresponding returns\n",
    "\n",
    "    # reset game to start at a random position\n",
    "    # we need to do this, because given our current deterministic policy\n",
    "    # we would never end up at certain states, but we still want to measure their value\n",
    "    start_states = grid.actions.keys()\n",
    "    start_idx = np.random.choice(len(start_states))\n",
    "    grid.set_state(start_states[start_idx])\n",
    "\n",
    "    s = grid.current_state()\n",
    "    states_and_rewards = [(s, 0)] # list of tuples of (state, reward)\n",
    "    while not grid.game_over():\n",
    "        a = policy[s]\n",
    "        a = random_action(a)\n",
    "        r = grid.move(a)\n",
    "        s = grid.current_state()\n",
    "        states_and_rewards.append((s, r))\n",
    "    # calculate the returns by working backwards from the terminal state\n",
    "    G = 0\n",
    "    states_and_returns = []\n",
    "    first = True\n",
    "    for s, r in reversed(states_and_rewards):\n",
    "        # the value of the terminal state is 0 by definition\n",
    "        # we should ignore the first state we encounter\n",
    "        # and ignore the last G, which is meaningless since it doesn't correspond to any move\n",
    "        if first:\n",
    "            first = False\n",
    "        else:\n",
    "            states_and_returns.append((s, G))\n",
    "        G = r + GAMMA*G\n",
    "    states_and_returns.reverse() # we want it to be in order of state visited\n",
    "    return states_and_returns"
   ]
  },
  {
   "cell_type": "code",
   "execution_count": 9,
   "metadata": {},
   "outputs": [
    {
     "name": "stdout",
     "output_type": "stream",
     "text": [
      "rewards:\n",
      "---------------------------\n",
      " 0.00|  0.00|  0.00|  1.00| \n",
      "---------------------------\n",
      " 0.00|  0.00|  0.00| -1.00| \n",
      "---------------------------\n",
      " 0.00|  0.00|  0.00|  0.00| \n",
      "values:\n",
      "---------------------------\n",
      " 0.42|  0.55|  0.72|  0.00| \n",
      "---------------------------\n",
      " 0.33|  0.00|  0.20|  0.00| \n",
      "---------------------------\n",
      " 0.25|  0.17|  0.11| -0.17| \n",
      "policy:\n",
      "---------------------------\n",
      "  R  |   R  |   R  |      | \n",
      "---------------------------\n",
      "  U  |      |   U  |      | \n",
      "---------------------------\n",
      "  U  |   L  |   U  |   L  | \n"
     ]
    }
   ],
   "source": [
    "if __name__ == '__main__':\n",
    "    # use the standard grid again (0 for every step) so that we can compare\n",
    "    # to iterative policy evaluation\n",
    "    grid = standard_grid()\n",
    "\n",
    "    # print rewards\n",
    "    print \"rewards:\"\n",
    "    print_values(grid.rewards, grid)\n",
    "\n",
    "    # state -> action\n",
    "    # found by policy_iteration_random on standard_grid\n",
    "    # MC method won't get exactly this, but should be close\n",
    "    # values:\n",
    "    # ---------------------------\n",
    "    #  0.43|  0.56|  0.72|  0.00|\n",
    "    # ---------------------------\n",
    "    #  0.33|  0.00|  0.21|  0.00|\n",
    "    # ---------------------------\n",
    "    #  0.25|  0.18|  0.11| -0.17|\n",
    "    # policy:\n",
    "    # ---------------------------\n",
    "    #   R  |   R  |   R  |      |\n",
    "    # ---------------------------\n",
    "    #   U  |      |   U  |      |\n",
    "    # ---------------------------\n",
    "    #   U  |   L  |   U  |   L  |\n",
    "    policy = {\n",
    "        (2, 0): 'U',\n",
    "        (1, 0): 'U',\n",
    "        (0, 0): 'R',\n",
    "        (0, 1): 'R',\n",
    "        (0, 2): 'R',\n",
    "        (1, 2): 'U',\n",
    "        (2, 1): 'L',\n",
    "        (2, 2): 'U',\n",
    "        (2, 3): 'L',\n",
    "    }\n",
    "\n",
    "    # initialize V(s) and returns\n",
    "    V = {}\n",
    "    returns = {} # dictionary of state -> list of returns we've received\n",
    "    states = grid.all_states()\n",
    "    for s in states:\n",
    "        if s in grid.actions:\n",
    "            returns[s] = []\n",
    "        else:\n",
    "            # terminal state or state we can't otherwise get to\n",
    "            V[s] = 0\n",
    "\n",
    "    # repeat until convergence\n",
    "    for t in xrange(5000):\n",
    "\n",
    "        # generate an episode using pi\n",
    "        states_and_returns = play_game(grid, policy)\n",
    "        seen_states = set()\n",
    "        for s, G in states_and_returns:\n",
    "            # check if we have already seen s\n",
    "            # called \"first-visit\" MC policy evaluation\n",
    "            if s not in seen_states:\n",
    "                returns[s].append(G)\n",
    "                V[s] = np.mean(returns[s])\n",
    "                seen_states.add(s)\n",
    "\n",
    "    print \"values:\"\n",
    "    print_values(V, grid)\n",
    "    print \"policy:\"\n",
    "    print_policy(policy, grid)\n"
   ]
  },
  {
   "cell_type": "code",
   "execution_count": null,
   "metadata": {},
   "outputs": [],
   "source": []
  }
 ],
 "metadata": {
  "kernelspec": {
   "display_name": "Python 2",
   "language": "python",
   "name": "python2"
  },
  "language_info": {
   "codemirror_mode": {
    "name": "ipython",
    "version": 2
   },
   "file_extension": ".py",
   "mimetype": "text/x-python",
   "name": "python",
   "nbconvert_exporter": "python",
   "pygments_lexer": "ipython2",
   "version": "2.7.13"
  },
  "widgets": {
   "state": {},
   "version": "1.1.2"
  }
 },
 "nbformat": 4,
 "nbformat_minor": 2
}
