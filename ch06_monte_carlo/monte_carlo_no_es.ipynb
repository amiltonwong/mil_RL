{
 "cells": [
  {
   "cell_type": "code",
   "execution_count": 1,
   "metadata": {},
   "outputs": [],
   "source": [
    "# ref: monte_carlo_no_es.py (using epsilon greedy method)"
   ]
  },
  {
   "cell_type": "code",
   "execution_count": 2,
   "metadata": {},
   "outputs": [],
   "source": [
    "import numpy as np\n",
    "import matplotlib.pyplot as plt\n",
    "from grid_world import standard_grid, negative_grid\n",
    "from iterative_policy_evaluation import print_values, print_policy\n",
    "from monte_carlo_es import max_dict"
   ]
  },
  {
   "cell_type": "code",
   "execution_count": 3,
   "metadata": {},
   "outputs": [],
   "source": [
    "GAMMA = 0.9\n",
    "ALL_POSSIBLE_ACTIONS = ('U', 'D', 'L', 'R')"
   ]
  },
  {
   "cell_type": "code",
   "execution_count": 4,
   "metadata": {},
   "outputs": [],
   "source": [
    "# NOTE: find optimal policy and value function\n",
    "#       using on-policy first-visit MC\n",
    "\n",
    "def random_action(a, eps=0.1):\n",
    "    # choose given a with probability 1 - eps + eps/4\n",
    "    # choose some other a' != a with probability eps/4\n",
    "    p = np.random.random()\n",
    "    # if p < (1 - eps + eps/len(ALL_POSSIBLE_ACTIONS)):\n",
    "    #   return a\n",
    "    # else:\n",
    "    #   tmp = list(ALL_POSSIBLE_ACTIONS)\n",
    "    #   tmp.remove(a)\n",
    "    #   return np.random.choice(tmp)\n",
    "    #\n",
    "    # this is equivalent to the above\n",
    "    if p < (1 - eps):\n",
    "        return a\n",
    "    else:\n",
    "        return np.random.choice(ALL_POSSIBLE_ACTIONS)"
   ]
  },
  {
   "cell_type": "code",
   "execution_count": 5,
   "metadata": {},
   "outputs": [],
   "source": [
    "def play_game(grid, policy):\n",
    "    # returns a list of states and corresponding returns\n",
    "    # in this version we will NOT use \"exploring starts\" method\n",
    "    # instead we will explore using an epsilon-soft policy\n",
    "    s = (2, 0)\n",
    "    grid.set_state(s)\n",
    "    a = random_action(policy[s])\n",
    "\n",
    "    # be aware of the timing\n",
    "    # each triple is s(t), a(t), r(t)\n",
    "    # but r(t) results from taking action a(t-1) from s(t-1) and landing in s(t)\n",
    "    states_actions_rewards = [(s, a, 0)]\n",
    "    while True:\n",
    "        r = grid.move(a)\n",
    "        s = grid.current_state()\n",
    "        if grid.game_over():\n",
    "            states_actions_rewards.append((s, None, r))\n",
    "            break\n",
    "        else:\n",
    "            a = random_action(policy[s]) # the next state is stochastic\n",
    "            states_actions_rewards.append((s, a, r))\n",
    "\n",
    "    # calculate the returns by working backwards from the terminal state\n",
    "    G = 0\n",
    "    states_actions_returns = []\n",
    "    first = True\n",
    "    for s, a, r in reversed(states_actions_rewards):\n",
    "        # the value of the terminal state is 0 by definition\n",
    "        # we should ignore the first state we encounter\n",
    "        # and ignore the last G, which is meaningless since it doesn't correspond to any move\n",
    "        if first:\n",
    "            first = False\n",
    "        else:\n",
    "            states_actions_returns.append((s, a, G))\n",
    "        G = r + GAMMA*G\n",
    "    states_actions_returns.reverse() # we want it to be in order of state visited\n",
    "    return states_actions_returns"
   ]
  },
  {
   "cell_type": "code",
   "execution_count": 6,
   "metadata": {},
   "outputs": [
    {
     "name": "stdout",
     "output_type": "stream",
     "text": [
      "rewards:\n",
      "---------------------------\n",
      "-0.10| -0.10| -0.10|  1.00| \n",
      "---------------------------\n",
      "-0.10|  0.00| -0.10| -1.00| \n",
      "---------------------------\n",
      "-0.10| -0.10| -0.10| -0.10| \n",
      "0\n",
      "1000\n",
      "2000\n",
      "3000\n",
      "4000\n"
     ]
    },
    {
     "data": {
      "image/png": "[encoded data removed]",
      "text/plain": [
       "<matplotlib.figure.Figure at 0x7f14f80619d0>"
      ]
     },
     "metadata": {},
     "output_type": "display_data"
    },
    {
     "name": "stdout",
     "output_type": "stream",
     "text": [
      "final values:\n",
      "---------------------------\n",
      "-0.17|  0.76|  1.00|  0.00| \n",
      "---------------------------\n",
      " 0.08|  0.00|  0.77|  0.00| \n",
      "---------------------------\n",
      " 0.22|  0.37|  0.54|  0.34| \n",
      "final policy:\n",
      "---------------------------\n",
      "  D  |   R  |   R  |      | \n",
      "---------------------------\n",
      "  D  |      |   U  |      | \n",
      "---------------------------\n",
      "  R  |   R  |   U  |   L  | \n"
     ]
    }
   ],
   "source": [
    "if __name__ == '__main__':\n",
    "    # use the standard grid again (0 for every step) so that we can compare\n",
    "    # to iterative policy evaluation\n",
    "    # grid = standard_grid()\n",
    "    # try the negative grid too, to see if agent will learn to go past the \"bad spot\"\n",
    "    # in order to minimize number of steps\n",
    "    grid = negative_grid(step_cost=-0.1)\n",
    "\n",
    "    # print rewards\n",
    "    print \"rewards:\"\n",
    "    print_values(grid.rewards, grid)\n",
    "\n",
    "    # state -> action\n",
    "    # initialize a random policy\n",
    "    policy = {}\n",
    "    for s in grid.actions.keys():\n",
    "        policy[s] = np.random.choice(ALL_POSSIBLE_ACTIONS)\n",
    "\n",
    "    # initialize Q(s,a) and returns\n",
    "    Q = {}\n",
    "    returns = {} # dictionary of state -> list of returns we've received\n",
    "    states = grid.all_states()\n",
    "    for s in states:\n",
    "        if s in grid.actions: # not a terminal state\n",
    "            Q[s] = {}\n",
    "            for a in ALL_POSSIBLE_ACTIONS:\n",
    "                Q[s][a] = 0\n",
    "                returns[(s,a)] = []\n",
    "        else:\n",
    "            # terminal state or state we can't otherwise get to\n",
    "            pass\n",
    "\n",
    "    # repeat until convergence\n",
    "    deltas = []\n",
    "    for t in xrange(5000):\n",
    "        if t % 1000 == 0:\n",
    "            print t\n",
    "\n",
    "        # generate an episode using pi\n",
    "        biggest_change = 0\n",
    "        states_actions_returns = play_game(grid, policy)\n",
    "\n",
    "        # calculate Q(s,a)\n",
    "        seen_state_action_pairs = set()\n",
    "        for s, a, G in states_actions_returns:\n",
    "            # check if we have already seen s\n",
    "            # called \"first-visit\" MC policy evaluation\n",
    "            sa = (s, a)\n",
    "            if sa not in seen_state_action_pairs:\n",
    "                old_q = Q[s][a]\n",
    "                returns[sa].append(G)\n",
    "                Q[s][a] = np.mean(returns[sa])\n",
    "                biggest_change = max(biggest_change, np.abs(old_q - Q[s][a]))\n",
    "                seen_state_action_pairs.add(sa)\n",
    "        deltas.append(biggest_change)\n",
    "\n",
    "        # calculate new policy pi(s) = argmax[a]{ Q(s,a) }\n",
    "        for s in policy.keys():\n",
    "            a, _ = max_dict(Q[s])\n",
    "            policy[s] = a\n",
    "\n",
    "    plt.plot(deltas)\n",
    "    plt.show()\n",
    "\n",
    "    # find the optimal state-value function\n",
    "    # V(s) = max[a]{ Q(s,a) }\n",
    "    V = {}\n",
    "    for s in policy.keys():\n",
    "        V[s] = max_dict(Q[s])[1]\n",
    "\n",
    "    print \"final values:\"\n",
    "    print_values(V, grid)\n",
    "    print \"final policy:\"\n",
    "    print_policy(policy, grid)\n"
   ]
  },
  {
   "cell_type": "code",
   "execution_count": null,
   "metadata": {},
   "outputs": [],
   "source": []
  }
 ],
 "metadata": {
  "kernelspec": {
   "display_name": "Python 2",
   "language": "python",
   "name": "python2"
  },
  "language_info": {
   "codemirror_mode": {
    "name": "ipython",
    "version": 2
   },
   "file_extension": ".py",
   "mimetype": "text/x-python",
   "name": "python",
   "nbconvert_exporter": "python",
   "pygments_lexer": "ipython2",
   "version": "2.7.13"
  },
  "widgets": {
   "state": {},
   "version": "1.1.2"
  }
 },
 "nbformat": 4,
 "nbformat_minor": 2
}
