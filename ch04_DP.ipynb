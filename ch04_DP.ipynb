{
 "cells": [
  {
   "cell_type": "code",
   "execution_count": 1,
   "metadata": {
    "collapsed": true
   },
   "outputs": [],
   "source": [
    "# ref: grif_world.py"
   ]
  },
  {
   "cell_type": "code",
   "execution_count": null,
   "metadata": {
    "collapsed": true
   },
   "outputs": [],
   "source": [
    "import numpy as np"
   ]
  },
  {
   "cell_type": "code",
   "execution_count": 3,
   "metadata": {
    "collapsed": true
   },
   "outputs": [],
   "source": [
    "class Grid: # Environment\n",
    "    def __init__(self, width, height, start):\n",
    "        self.width = width\n",
    "        self.height = height\n",
    "        self.i = start[0]\n",
    "        self.j = start[1]\n",
    "    def set(self, rewards, actions):\n",
    "        # rewards should be a dict of: (i, j): r (row, col): reward\n",
    "        # actions should be a dict of: (i, j): A (row, col): list of possible actions\n",
    "        self.rewards = rewards\n",
    "        self.actions = actions\n",
    "    def set_state(self, s):\n",
    "        self.i = s[0]\n",
    "        self.j = s[1]\n",
    "  \n",
    "    def current_state(self):\n",
    "        return (self.i, self.j)\n",
    "  \n",
    "    def is_terminal(self, s):\n",
    "        return s not in self.actions\n",
    "  \n",
    "    def move(self, action):\n",
    "        # check if legal move first\n",
    "        if action in self.actions[(self.i, self.j)]:\n",
    "            if action == 'U':\n",
    "                self.i -= 1\n",
    "            elif action == 'D':\n",
    "                self.i += 1\n",
    "            elif action == 'R':\n",
    "                self.j += 1\n",
    "            elif action == 'L':\n",
    "                self.j -= 1\n",
    "        # return a reward (if any)\n",
    "        return self.rewards.get((self.i, self.j), 0)\n",
    "  \n",
    "    def undo_move(self, action):\n",
    "        # these are the opposite of what U/D/L/R should normally do\n",
    "        if action == 'U':\n",
    "            self.i += 1\n",
    "        elif action == 'D':\n",
    "            self.i -= 1\n",
    "        elif action == 'R':\n",
    "            self.j -= 1\n",
    "        elif action == 'L':\n",
    "            self.j += 1\n",
    "        # raise an exception if we arrive somewhere we shouldn't be\n",
    "        # should never happen\n",
    "        assert(self.current_state() in self.all_states())\n",
    "  \n",
    "    def game_over(self):\n",
    "        # returns true if game is over, else false\n",
    "        # true if we are in a state where no actions are possible\n",
    "        return (self.i, self.j) not in self.actions\n",
    "  \n",
    "    def all_states(self):\n",
    "        # possibly buggy but simple way to get all states\n",
    "        # either a position that has possible next actions\n",
    "        # or a position that yields a reward\n",
    "        return set(self.actions.keys() + self.rewards.keys())"
   ]
  },
  {
   "cell_type": "code",
   "execution_count": 4,
   "metadata": {
    "collapsed": true
   },
   "outputs": [],
   "source": [
    "def standard_grid():\n",
    "    # define a grid that describes the reward for arriving at each state\n",
    "    # and possible actions at each state\n",
    "    # the grid looks like this\n",
    "    # x means you can't go there\n",
    "    # s means start position\n",
    "    # number means reward at that state\n",
    "    # .  .  .  1\n",
    "    # .  x  . -1\n",
    "    # s  .  .  .\n",
    "    g = Grid(3, 4, (2, 0))\n",
    "    rewards = {(0, 3): 1, (1, 3): -1}\n",
    "    actions = {\n",
    "        (0, 0): ('D', 'R'),\n",
    "        (0, 1): ('L', 'R'),\n",
    "        (0, 2): ('L', 'D', 'R'),\n",
    "        (1, 0): ('U', 'D'),\n",
    "        (1, 2): ('U', 'D', 'R'),\n",
    "        (2, 0): ('U', 'R'),\n",
    "        (2, 1): ('L', 'R'),\n",
    "        (2, 2): ('L', 'R', 'U'),\n",
    "        (2, 3): ('L', 'U'),\n",
    "    }\n",
    "    g.set(rewards, actions)\n",
    "    return g\n",
    "\n",
    "\n",
    "def negative_grid(step_cost=-0.1):\n",
    "    # in this game we want to try to minimize the number of moves\n",
    "    # so we will penalize every move\n",
    "    g = standard_grid()\n",
    "    g.rewards.update({\n",
    "        (0, 0): step_cost,\n",
    "        (0, 1): step_cost,\n",
    "        (0, 2): step_cost,\n",
    "        (1, 0): step_cost,\n",
    "        (1, 2): step_cost,\n",
    "        (2, 0): step_cost,\n",
    "        (2, 1): step_cost,\n",
    "        (2, 2): step_cost,\n",
    "        (2, 3): step_cost,\n",
    "    })\n",
    "    return g"
   ]
  },
  {
   "cell_type": "code",
   "execution_count": 5,
   "metadata": {
    "collapsed": true
   },
   "outputs": [],
   "source": [
    "# ref: "
   ]
  },
  {
   "cell_type": "code",
   "execution_count": 6,
   "metadata": {
    "collapsed": true
   },
   "outputs": [],
   "source": [
    "import numpy as np\n",
    "from grid_world import standard_grid"
   ]
  },
  {
   "cell_type": "code",
   "execution_count": 7,
   "metadata": {
    "collapsed": true
   },
   "outputs": [],
   "source": [
    "import matplotlib.pyplot as plt\n",
    "%matplotlib inline"
   ]
  },
  {
   "cell_type": "code",
   "execution_count": 8,
   "metadata": {
    "collapsed": true
   },
   "outputs": [],
   "source": [
    "SMALL_ENOUGH = 1e-3 # threshold for convergence\n",
    "\n",
    "def print_values(V, g):\n",
    "    for i in xrange(g.width):\n",
    "        print \"---------------------------\"\n",
    "        for j in xrange(g.height):\n",
    "            v = V.get((i,j), 0)\n",
    "            if v >= 0:\n",
    "                print \" %.2f|\" % v,\n",
    "            else:\n",
    "                print \"%.2f|\" % v, # -ve sign takes up an extra space\n",
    "        print \"\"\n",
    "\n",
    "\n",
    "def print_policy(P, g):\n",
    "    for i in xrange(g.width):\n",
    "        print \"---------------------------\"\n",
    "        for j in xrange(g.height):\n",
    "            a = P.get((i,j), ' ')\n",
    "            print \"  %s  |\" % a,\n",
    "        print \"\""
   ]
  },
  {
   "cell_type": "code",
   "execution_count": 12,
   "metadata": {},
   "outputs": [
    {
     "data": {
      "text/plain": [
       "{(0, 0): 0.81,\n",
       " (0, 1): 0.9,\n",
       " (0, 2): 1.0,\n",
       " (0, 3): 0,\n",
       " (1, 0): 0.7290000000000001,\n",
       " (1, 2): -1.0,\n",
       " (1, 3): 0,\n",
       " (2, 0): 0.6561000000000001,\n",
       " (2, 1): -0.81,\n",
       " (2, 2): -0.9,\n",
       " (2, 3): -1.0}"
      ]
     },
     "execution_count": 12,
     "metadata": {},
     "output_type": "execute_result"
    }
   ],
   "source": [
    "V"
   ]
  },
  {
   "cell_type": "code",
   "execution_count": 13,
   "metadata": {},
   "outputs": [
    {
     "data": {
      "text/plain": [
       "{(0, 0): ('D', 'R'),\n",
       " (0, 1): ('L', 'R'),\n",
       " (0, 2): ('L', 'D', 'R'),\n",
       " (1, 0): ('U', 'D'),\n",
       " (1, 2): ('U', 'D', 'R'),\n",
       " (2, 0): ('U', 'R'),\n",
       " (2, 1): ('L', 'R'),\n",
       " (2, 2): ('L', 'R', 'U'),\n",
       " (2, 3): ('L', 'U')}"
      ]
     },
     "execution_count": 13,
     "metadata": {},
     "output_type": "execute_result"
    }
   ],
   "source": [
    "grid.actions"
   ]
  },
  {
   "cell_type": "code",
   "execution_count": 18,
   "metadata": {},
   "outputs": [
    {
     "name": "stdout",
     "output_type": "stream",
     "text": [
      "values for uniformly random actions:\n",
      "---------------------------\n",
      "-0.03|  0.09|  0.22|  0.00| \n",
      "---------------------------\n",
      "-0.16|  0.00| -0.44|  0.00| \n",
      "---------------------------\n",
      "-0.29| -0.41| -0.54| -0.77| \n",
      "\n",
      "\n",
      "\n",
      "fixed policy:\n",
      "---------------------------\n",
      "  R  |   R  |   R  |      | \n",
      "---------------------------\n",
      "  U  |      |   R  |      | \n",
      "---------------------------\n",
      "  U  |   R  |   R  |   U  | \n",
      "\n",
      "\n",
      "\n",
      "values for fixed policy:\n",
      "---------------------------\n",
      " 0.81|  0.90|  1.00|  0.00| \n",
      "---------------------------\n",
      " 0.73|  0.00| -1.00|  0.00| \n",
      "---------------------------\n",
      " 0.66| -0.81| -0.90| -1.00| \n"
     ]
    }
   ],
   "source": [
    "# iterative policy evaluation\n",
    "# given a policy, let's find it's value function V(s)\n",
    "# we will do this for both a uniform random policy and fixed policy\n",
    "# NOTE:\n",
    "# there are 2 sources of randomness\n",
    "# p(a|s) - deciding what action to take given the state\n",
    "# p(s',r|s,a) - the next state and reward given your action-state pair\n",
    "# we are only modeling p(a|s) = uniform\n",
    "# how would the code change if p(s',r|s,a) is not deterministic?\n",
    "grid = standard_grid()\n",
    "\n",
    "# states will be positions (i,j)\n",
    "# simpler than tic-tac-toe because we only have one \"game piece\"\n",
    "# that can only be at one position at a time\n",
    "states = grid.all_states()\n",
    "\n",
    "### uniformly random actions ###\n",
    "# initialize V(s) = 0\n",
    "V = {}\n",
    "for s in states:\n",
    "    V[s] = 0\n",
    "gamma = 1.0 # discount factor\n",
    "# repeat until convergence\n",
    "while True:\n",
    "    biggest_change = 0\n",
    "    for s in states:\n",
    "        old_v = V[s]\n",
    "  \n",
    "        # V(s) only has value if it's not a terminal state\n",
    "        if s in grid.actions:\n",
    "  \n",
    "            new_v = 0 # we will accumulate the answer\n",
    "            p_a = 1.0 / len(grid.actions[s]) # each action has equal probability\n",
    "            for a in grid.actions[s]:\n",
    "                grid.set_state(s)\n",
    "                r = grid.move(a)\n",
    "                new_v += p_a * (r + gamma * V[grid.current_state()])\n",
    "            V[s] = new_v\n",
    "            biggest_change = max(biggest_change, np.abs(old_v - V[s]))\n",
    "\n",
    "    if biggest_change < SMALL_ENOUGH:\n",
    "        break\n",
    "print \"values for uniformly random actions:\"\n",
    "print_values(V, grid)\n",
    "print \"\\n\\n\"\n",
    "\n",
    "### fixed policy ###\n",
    "policy = {\n",
    "    (2, 0): 'U',\n",
    "    (1, 0): 'U',\n",
    "    (0, 0): 'R',\n",
    "    (0, 1): 'R',\n",
    "    (0, 2): 'R',\n",
    "    (1, 2): 'R',\n",
    "    (2, 1): 'R',\n",
    "    (2, 2): 'R',\n",
    "    (2, 3): 'U',\n",
    "}\n",
    "\n",
    "print(\"fixed policy:\")\n",
    "print_policy(policy, grid)\n",
    "\n",
    "print \"\\n\\n\"\n",
    "\n",
    "\n",
    "# initialize V(s) = 0\n",
    "V = {}\n",
    "for s in states:\n",
    "    V[s] = 0\n",
    "\n",
    "# let's see how V(s) changes as we get further away from the reward\n",
    "gamma = 0.9 # discount factor\n",
    "\n",
    "# repeat until convergence\n",
    "while True:\n",
    "    biggest_change = 0\n",
    "    for s in states:\n",
    "        old_v = V[s]\n",
    "  \n",
    "        # V(s) only has value if it's not a terminal state\n",
    "        if s in policy:\n",
    "            a = policy[s]\n",
    "            grid.set_state(s)\n",
    "            r = grid.move(a)\n",
    "            V[s] = r + gamma * V[grid.current_state()]\n",
    "            biggest_change = max(biggest_change, np.abs(old_v - V[s]))\n",
    "  \n",
    "    if biggest_change < SMALL_ENOUGH:\n",
    "        break\n",
    "print \"values for fixed policy:\"\n",
    "print_values(V, grid)"
   ]
  },
  {
   "cell_type": "markdown",
   "metadata": {},
   "source": [
    "### Policy Iteration"
   ]
  },
  {
   "cell_type": "code",
   "execution_count": null,
   "metadata": {
    "collapsed": true
   },
   "outputs": [],
   "source": [
    "# ref: policy_iteration.py"
   ]
  },
  {
   "cell_type": "code",
   "execution_count": 22,
   "metadata": {
    "collapsed": true
   },
   "outputs": [],
   "source": [
    "import numpy as np\n",
    "from grid_world import standard_grid, negative_grid\n",
    "from iterative_policy_evaluation import print_values, print_policy"
   ]
  },
  {
   "cell_type": "code",
   "execution_count": 23,
   "metadata": {
    "collapsed": true
   },
   "outputs": [],
   "source": [
    "SMALL_ENOUGH = 1e-3\n",
    "GAMMA = 0.9\n",
    "ALL_POSSIBLE_ACTIONS = ('U', 'D', 'L', 'R')"
   ]
  },
  {
   "cell_type": "code",
   "execution_count": 24,
   "metadata": {
    "collapsed": true
   },
   "outputs": [],
   "source": [
    "# this is deterministic\n",
    "# all p(s',r|s,a) = 1 or 0"
   ]
  },
  {
   "cell_type": "code",
   "execution_count": 25,
   "metadata": {},
   "outputs": [
    {
     "name": "stdout",
     "output_type": "stream",
     "text": [
      "rewards:\n",
      "---------------------------\n",
      "-0.10| -0.10| -0.10|  1.00| \n",
      "---------------------------\n",
      "-0.10|  0.00| -0.10| -1.00| \n",
      "---------------------------\n",
      "-0.10| -0.10| -0.10| -0.10| \n",
      "initial policy:\n",
      "---------------------------\n",
      "  R  |   U  |   D  |      | \n",
      "---------------------------\n",
      "  D  |      |   L  |      | \n",
      "---------------------------\n",
      "  U  |   U  |   D  |   L  | \n",
      "values:\n",
      "---------------------------\n",
      " 0.62|  0.80|  1.00|  0.00| \n",
      "---------------------------\n",
      " 0.46|  0.00|  0.80|  0.00| \n",
      "---------------------------\n",
      " 0.31|  0.46|  0.62|  0.46| \n",
      "policy:\n",
      "---------------------------\n",
      "  R  |   R  |   R  |      | \n",
      "---------------------------\n",
      "  U  |      |   U  |      | \n",
      "---------------------------\n",
      "  U  |   R  |   U  |   L  | \n"
     ]
    }
   ],
   "source": [
    "# this grid gives you a reward of -0.1 for every non-terminal state\n",
    "# we want to see if this will encourage finding a shorter path to the goal\n",
    "grid = negative_grid()\n",
    "\n",
    "# print rewards\n",
    "print \"rewards:\"\n",
    "print_values(grid.rewards, grid)\n",
    "\n",
    "# state -> action\n",
    "# we'll randomly choose an action and update as we learn\n",
    "policy = {}\n",
    "for s in grid.actions.keys():\n",
    "    policy[s] = np.random.choice(ALL_POSSIBLE_ACTIONS)\n",
    "\n",
    "# initial policy\n",
    "print \"initial policy:\"\n",
    "print_policy(policy, grid)\n",
    "\n",
    "# initialize V(s)\n",
    "V = {}\n",
    "states = grid.all_states()\n",
    "for s in states:\n",
    "    # V[s] = 0\n",
    "    if s in grid.actions:\n",
    "        V[s] = np.random.random()\n",
    "    else:\n",
    "        # terminal state\n",
    "        V[s] = 0\n",
    "\n",
    "# repeat until convergence - will break out when policy does not change\n",
    "while True:\n",
    "\n",
    "    # policy evaluation step - we already know how to do this!\n",
    "    while True:\n",
    "        biggest_change = 0\n",
    "        for s in states:\n",
    "            old_v = V[s]\n",
    "\n",
    "            # V(s) only has value if it's not a terminal state\n",
    "            if s in policy:\n",
    "                a = policy[s]\n",
    "                grid.set_state(s)\n",
    "                r = grid.move(a)\n",
    "                V[s] = r + GAMMA * V[grid.current_state()]\n",
    "                biggest_change = max(biggest_change, np.abs(old_v - V[s]))\n",
    "\n",
    "        if biggest_change < SMALL_ENOUGH:\n",
    "            break\n",
    "\n",
    "    # policy improvement step\n",
    "    is_policy_converged = True\n",
    "    for s in states:\n",
    "        if s in policy:\n",
    "            old_a = policy[s]\n",
    "            new_a = None\n",
    "            best_value = float('-inf')\n",
    "            # loop through all possible actions to find the best current action\n",
    "            for a in ALL_POSSIBLE_ACTIONS:\n",
    "                grid.set_state(s)\n",
    "                r = grid.move(a)\n",
    "                v = r + GAMMA * V[grid.current_state()]\n",
    "                if v > best_value:\n",
    "                    best_value = v\n",
    "                    new_a = a\n",
    "            policy[s] = new_a\n",
    "            if new_a != old_a:\n",
    "                is_policy_converged = False\n",
    "\n",
    "    if is_policy_converged:\n",
    "        break\n",
    "\n",
    "print \"values:\"\n",
    "print_values(V, grid)\n",
    "print \"policy:\"\n",
    "print_policy(policy, grid)"
   ]
  },
  {
   "cell_type": "code",
   "execution_count": null,
   "metadata": {
    "collapsed": true
   },
   "outputs": [],
   "source": []
  }
 ],
 "metadata": {
  "kernelspec": {
   "display_name": "Python 2",
   "language": "python",
   "name": "python2"
  },
  "language_info": {
   "codemirror_mode": {
    "name": "ipython",
    "version": 2
   },
   "file_extension": ".py",
   "mimetype": "text/x-python",
   "name": "python",
   "nbconvert_exporter": "python",
   "pygments_lexer": "ipython2",
   "version": "2.7.13"
  },
  "widgets": {
   "state": {},
   "version": "1.1.2"
  }
 },
 "nbformat": 4,
 "nbformat_minor": 2
}
